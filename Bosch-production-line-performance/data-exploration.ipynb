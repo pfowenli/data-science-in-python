{
 "cells": [
  {
   "cell_type": "code",
   "execution_count": 1,
   "metadata": {
    "collapsed": true
   },
   "outputs": [],
   "source": [
    "import pandas as pd"
   ]
  },
  {
   "cell_type": "code",
   "execution_count": 11,
   "metadata": {
    "scrolled": false
   },
   "outputs": [
    {
     "name": "stdout",
     "output_type": "stream",
     "text": [
      "Index(['Id', 'L0_S0_F0', 'L0_S0_F2', 'L0_S0_F4', 'L0_S0_F6', 'L0_S0_F8',\n",
      "       'L0_S0_F10', 'L0_S0_F12', 'L0_S0_F14', 'L0_S0_F16',\n",
      "       ...\n",
      "       'L3_S50_F4245', 'L3_S50_F4247', 'L3_S50_F4249', 'L3_S50_F4251',\n",
      "       'L3_S50_F4253', 'L3_S51_F4256', 'L3_S51_F4258', 'L3_S51_F4260',\n",
      "       'L3_S51_F4262', 'Response'],\n",
      "      dtype='object', length=970)\n",
      "\n",
      "count    67.000000\n",
      "mean      0.002328\n",
      "std       0.079453\n",
      "min      -0.251000\n",
      "25%      -0.039000\n",
      "50%      -0.003000\n",
      "75%       0.042500\n",
      "max       0.252000\n",
      "Name: L0_S0_F0, dtype: float64\n"
     ]
    }
   ],
   "source": [
    "data = pd.read_csv(\"data/train_numeric.100Lines.csv\")\n",
    "\n",
    "#print(data.describe)\n",
    "#print(\"\")\n",
    "print(data.columns)\n",
    "print(\"\")\n",
    "print(data[\"L0_S0_F0\"].describe())"
   ]
  },
  {
   "cell_type": "code",
   "execution_count": 12,
   "metadata": {
    "scrolled": true
   },
   "outputs": [
    {
     "name": "stdout",
     "output_type": "stream",
     "text": [
      "Index(['Id', 'L0_S1_F25', 'L0_S1_F27', 'L0_S1_F29', 'L0_S1_F31', 'L0_S2_F33',\n",
      "       'L0_S2_F35', 'L0_S2_F37', 'L0_S2_F39', 'L0_S2_F41',\n",
      "       ...\n",
      "       'L3_S49_F4225', 'L3_S49_F4227', 'L3_S49_F4229', 'L3_S49_F4230',\n",
      "       'L3_S49_F4232', 'L3_S49_F4234', 'L3_S49_F4235', 'L3_S49_F4237',\n",
      "       'L3_S49_F4239', 'L3_S49_F4240'],\n",
      "      dtype='object', length=2141)\n",
      "\n",
      "count    0.0\n",
      "mean     NaN\n",
      "std      NaN\n",
      "min      NaN\n",
      "25%      NaN\n",
      "50%      NaN\n",
      "75%      NaN\n",
      "max      NaN\n",
      "Name: L0_S1_F25, dtype: float64\n"
     ]
    }
   ],
   "source": [
    "data = pd.read_csv(\"data/train_categorical.100Lines.csv\")\n",
    "\n",
    "#print(data.describe)\n",
    "#print(\"\")\n",
    "print(data.columns)\n",
    "print(\"\")\n",
    "print(data[\"L0_S1_F25\"].describe())"
   ]
  },
  {
   "cell_type": "code",
   "execution_count": 13,
   "metadata": {
    "scrolled": false
   },
   "outputs": [
    {
     "name": "stdout",
     "output_type": "stream",
     "text": [
      "Index(['Id', 'L0_S0_D1', 'L0_S0_D3', 'L0_S0_D5', 'L0_S0_D7', 'L0_S0_D9',\n",
      "       'L0_S0_D11', 'L0_S0_D13', 'L0_S0_D15', 'L0_S0_D17',\n",
      "       ...\n",
      "       'L3_S50_D4246', 'L3_S50_D4248', 'L3_S50_D4250', 'L3_S50_D4252',\n",
      "       'L3_S50_D4254', 'L3_S51_D4255', 'L3_S51_D4257', 'L3_S51_D4259',\n",
      "       'L3_S51_D4261', 'L3_S51_D4263'],\n",
      "      dtype='object', length=1157)\n",
      "\n",
      "count      67.000000\n",
      "mean      847.719701\n",
      "std       506.980905\n",
      "min        55.370000\n",
      "25%       455.245000\n",
      "50%       877.140000\n",
      "75%      1302.090000\n",
      "max      1674.900000\n",
      "Name: L0_S0_D1, dtype: float64\n"
     ]
    }
   ],
   "source": [
    "data = pd.read_csv(\"data/train_date.100Lines.csv\")\n",
    "\n",
    "#print(data.describe)\n",
    "#print(\"\")\n",
    "print(data.columns)\n",
    "print(\"\")\n",
    "print(data[\"L0_S0_D1\"].describe())"
   ]
  }
 ],
 "metadata": {
  "kernelspec": {
   "display_name": "Python 3",
   "language": "python",
   "name": "python3"
  },
  "language_info": {
   "codemirror_mode": {
    "name": "ipython",
    "version": 3
   },
   "file_extension": ".py",
   "mimetype": "text/x-python",
   "name": "python",
   "nbconvert_exporter": "python",
   "pygments_lexer": "ipython3",
   "version": "3.6.1"
  }
 },
 "nbformat": 4,
 "nbformat_minor": 2
}
