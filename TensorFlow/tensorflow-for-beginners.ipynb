{
 "cells": [
  {
   "cell_type": "code",
   "execution_count": 19,
   "metadata": {
    "collapsed": false
   },
   "outputs": [
    {
     "name": "stdout",
     "output_type": "stream",
     "text": [
      "greetings:  b'Hello, TensorFlow!'\n",
      "\n",
      "x:  10\n",
      "y:  32\n",
      "z = x + y :  42\n"
     ]
    }
   ],
   "source": [
    "import tensorflow as tf\n",
    "\n",
    "# initialize session_test\n",
    "session_test = tf.Session()\n",
    "\n",
    "# initialize greetings constant\n",
    "greetings = tf.constant('Hello, TensorFlow!')\n",
    "\n",
    "# print greetings\n",
    "print(\"greetings: \", session_test.run(greetings))\n",
    "print(\"\")\n",
    "\n",
    "# initialize constants x and y\n",
    "x = tf.constant(10)\n",
    "y = tf.constant(32)\n",
    "\n",
    "# add x and y\n",
    "z = x + y\n",
    "\n",
    "# print x, y and z\n",
    "print(\"x: \", session_test.run(x))\n",
    "print(\"y: \", session_test.run(y))\n",
    "print(\"z = x + y : \", session_test.run(z))\n",
    "\n",
    "# close session_test\n",
    "session_test.close()\n"
   ]
  },
  {
   "cell_type": "code",
   "execution_count": 13,
   "metadata": {
    "collapsed": false
   },
   "outputs": [
    {
     "name": "stdout",
     "output_type": "stream",
     "text": [
      "constant_1:  [1 3 5 7]\n",
      "constant_2:  [2 4 6 8]\n",
      "result:  [ 2 12 30 56]\n"
     ]
    }
   ],
   "source": [
    "import tensorflow as tf\n",
    "\n",
    "# initialize constants constant_1 and constant_2\n",
    "constant_1 = tf.constant([1,3,5,7])\n",
    "constant_2 = tf.constant([2,4,6,8])\n",
    "\n",
    "# multiply\n",
    "result = tf.multiply(constant_1, constant_2)\n",
    "\n",
    "# intialize session_test\n",
    "session_test = tf.Session()\n",
    "\n",
    "# print constant_1, constant_2 and result\n",
    "print(\"constant_1: \", session_test.run(constant_1))\n",
    "print(\"constant_2: \", session_test.run(constant_2))\n",
    "print(\"result: \", session_test.run(result))\n",
    "\n",
    "# close session_test\n",
    "session_test.close()\n",
    "\n"
   ]
  },
  {
   "cell_type": "code",
   "execution_count": 14,
   "metadata": {
    "collapsed": false
   },
   "outputs": [
    {
     "name": "stdout",
     "output_type": "stream",
     "text": [
      "constant_1:  [1 3 5 7]\n",
      "constant_2:  [2 4 6 8]\n",
      "result:  [ 2 12 30 56]\n",
      "\n"
     ]
    }
   ],
   "source": [
    "import tensorflow as tf\n",
    "\n",
    "# initialize two constants\n",
    "constant_1 = tf.constant([1,3,5,7])\n",
    "constant_2 = tf.constant([2,4,6,8])\n",
    "\n",
    "# multiply\n",
    "result = tf.multiply(constant_1, constant_2)\n",
    "\n",
    "with tf.Session() as session_test:\n",
    "    print(\"constant_1: \", session_test.run(constant_1))\n",
    "    print(\"constant_2: \", session_test.run(constant_2))\n",
    "    print(\"result: \", session_test.run(result))\n",
    "    print(\"\")\n"
   ]
  },
  {
   "cell_type": "code",
   "execution_count": 16,
   "metadata": {
    "collapsed": false
   },
   "outputs": [
    {
     "name": "stdout",
     "output_type": "stream",
     "text": [
      "the dimensions of images:  1\n",
      "the number of elements of images:  4575\n",
      "the first instance of images:\n",
      "[[[210 249 232]\n",
      "  [204 249 208]\n",
      "  [197 198 155]\n",
      "  ..., \n",
      "  [ 51  60  40]\n",
      "  [ 54  64  44]\n",
      "  [ 57  66  46]]\n",
      "\n",
      " [[209 250 236]\n",
      "  [212 255 217]\n",
      "  [200 196 156]\n",
      "  ..., \n",
      "  [ 49  57  38]\n",
      "  [ 51  59  41]\n",
      "  [ 53  60  42]]\n",
      "\n",
      " [[203 246 236]\n",
      "  [207 246 213]\n",
      "  [202 192 156]\n",
      "  ..., \n",
      "  [ 47  53  35]\n",
      "  [ 48  54  36]\n",
      "  [ 48  55  37]]\n",
      "\n",
      " ..., \n",
      " [[  2  22  25]\n",
      "  [ 26  56  77]\n",
      "  [ 71 140 159]\n",
      "  ..., \n",
      "  [ 84  77  50]\n",
      "  [ 68  66  41]\n",
      "  [ 56  64  44]]\n",
      "\n",
      " [[  0  22  32]\n",
      "  [ 30  75 106]\n",
      "  [ 87 176 198]\n",
      "  ..., \n",
      "  [ 86  80  52]\n",
      "  [ 68  66  41]\n",
      "  [ 55  63  42]]\n",
      "\n",
      " [[  0  32  50]\n",
      "  [ 42 101 135]\n",
      "  [121 217 239]\n",
      "  ..., \n",
      "  [ 87  80  52]\n",
      "  [ 70  68  43]\n",
      "  [ 58  66  46]]]\n",
      "the dimensions of labels:  1\n",
      "the number of elements of labels:  4575\n",
      "the number of labels:  62\n"
     ]
    },
    {
     "data": {
      "image/png": "[encoded data removed]",
      "text/plain": [
       "<matplotlib.figure.Figure at 0x12624cf98>"
      ]
     },
     "metadata": {},
     "output_type": "display_data"
    }
   ],
   "source": [
    "import os\n",
    "from skimage import data\n",
    "\n",
    "\n",
    "def load_data(data_directory):\n",
    "    directories = [d for d in os.listdir(data_directory) \n",
    "                   if os.path.isdir(os.path.join(data_directory, d))]\n",
    "    labels = []\n",
    "    images = []\n",
    "    for d in directories:\n",
    "        label_directory = os.path.join(data_directory, d)\n",
    "        file_names = [os.path.join(label_directory, f) \n",
    "                      for f in os.listdir(label_directory) \n",
    "                      if f.endswith(\".ppm\")]\n",
    "        for f in file_names:\n",
    "            images.append(data.imread(f))\n",
    "            labels.append(int(d))\n",
    "    return images, labels\n",
    "\n",
    "ROOT_PATH = \"data\"\n",
    "train_data_directory = os.path.join(ROOT_PATH, \"TrafficSigns/Training\")\n",
    "test_data_directory = os.path.join(ROOT_PATH, \"TrafficSigns/Testing\")\n",
    "\n",
    "images, labels = load_data(train_data_directory)\n",
    "\n",
    "\n",
    "##################################################\n",
    "\n",
    "import numpy as np\n",
    "\n",
    "# convert images and labels to ndarrays\n",
    "images = np.array(images)\n",
    "labels = np.array(labels)\n",
    "\n",
    "# print the dimensions of images\n",
    "print(\"the dimensions of images: \", images.ndim)\n",
    "\n",
    "# print the number of elements of images\n",
    "print(\"the number of elements of images: \", images.size)\n",
    "\n",
    "# print the first instance of images\n",
    "print(\"the first instance of images:\")\n",
    "print(images[0])\n",
    "\n",
    "\n",
    "# print the dimensions of labels\n",
    "print(\"the dimensions of labels: \", labels.ndim)\n",
    "\n",
    "# print the number of elements of labels\n",
    "print(\"the number of elements of labels: \", labels.size)\n",
    "\n",
    "# print the number of labels\n",
    "print(\"the number of labels: \", len(set(labels)))\n",
    "\n",
    "\n",
    "##################################################\n",
    "\n",
    "import matplotlib.pyplot as plt \n",
    "\n",
    "# make a histogram with 62 bins of labels ndarray\n",
    "plt.hist(labels, 62, color=\"lightblue\")\n",
    "plt.title(\"Distribution of Traffic Sign Labels\")\n",
    "plt.xlabel(\"Traffic Sign Label\")\n",
    "plt.ylabel(\"Count\")\n",
    "plt.axis([-5, 65, 0, 400])\n",
    "plt.show()\n"
   ]
  }
 ],
 "metadata": {
  "anaconda-cloud": {},
  "kernelspec": {
   "display_name": "Python [default]",
   "language": "python",
   "name": "python3"
  },
  "language_info": {
   "codemirror_mode": {
    "name": "ipython",
    "version": 3
   },
   "file_extension": ".py",
   "mimetype": "text/x-python",
   "name": "python",
   "nbconvert_exporter": "python",
   "pygments_lexer": "ipython3",
   "version": "3.5.2"
  }
 },
 "nbformat": 4,
 "nbformat_minor": 1
}
