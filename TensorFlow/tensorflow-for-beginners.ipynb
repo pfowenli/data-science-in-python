{
 "cells": [
  {
   "cell_type": "code",
   "execution_count": 19,
   "metadata": {
    "collapsed": false
   },
   "outputs": [
    {
     "name": "stdout",
     "output_type": "stream",
     "text": [
      "greetings:  b'Hello, TensorFlow!'\n",
      "\n",
      "x:  10\n",
      "y:  32\n",
      "z = x + y :  42\n"
     ]
    }
   ],
   "source": [
    "import tensorflow as tf\n",
    "\n",
    "# initialize session_test\n",
    "session_test = tf.Session()\n",
    "\n",
    "# initialize greetings constant\n",
    "greetings = tf.constant('Hello, TensorFlow!')\n",
    "\n",
    "# print greetings\n",
    "print(\"greetings: \", session_test.run(greetings))\n",
    "print(\"\")\n",
    "\n",
    "# initialize constants x and y\n",
    "x = tf.constant(10)\n",
    "y = tf.constant(32)\n",
    "\n",
    "# add x and y\n",
    "z = x + y\n",
    "\n",
    "# print x, y and z\n",
    "print(\"x: \", session_test.run(x))\n",
    "print(\"y: \", session_test.run(y))\n",
    "print(\"z = x + y : \", session_test.run(z))\n",
    "\n",
    "# close session_test\n",
    "session_test.close()\n"
   ]
  },
  {
   "cell_type": "code",
   "execution_count": 13,
   "metadata": {
    "collapsed": false
   },
   "outputs": [
    {
     "name": "stdout",
     "output_type": "stream",
     "text": [
      "constant_1:  [1 3 5 7]\n",
      "constant_2:  [2 4 6 8]\n",
      "result:  [ 2 12 30 56]\n"
     ]
    }
   ],
   "source": [
    "import tensorflow as tf\n",
    "\n",
    "# initialize constants constant_1 and constant_2\n",
    "constant_1 = tf.constant([1,3,5,7])\n",
    "constant_2 = tf.constant([2,4,6,8])\n",
    "\n",
    "# multiply\n",
    "result = tf.multiply(constant_1, constant_2)\n",
    "\n",
    "# intialize session_test\n",
    "session_test = tf.Session()\n",
    "\n",
    "# print constant_1, constant_2 and result\n",
    "print(\"constant_1: \", session_test.run(constant_1))\n",
    "print(\"constant_2: \", session_test.run(constant_2))\n",
    "print(\"result: \", session_test.run(result))\n",
    "\n",
    "# close session_test\n",
    "session_test.close()\n",
    "\n"
   ]
  },
  {
   "cell_type": "code",
   "execution_count": 14,
   "metadata": {
    "collapsed": false
   },
   "outputs": [
    {
     "name": "stdout",
     "output_type": "stream",
     "text": [
      "constant_1:  [1 3 5 7]\n",
      "constant_2:  [2 4 6 8]\n",
      "result:  [ 2 12 30 56]\n",
      "\n"
     ]
    }
   ],
   "source": [
    "import tensorflow as tf\n",
    "\n",
    "# initialize two constants\n",
    "constant_1 = tf.constant([1,3,5,7])\n",
    "constant_2 = tf.constant([2,4,6,8])\n",
    "\n",
    "# multiply\n",
    "result = tf.multiply(constant_1, constant_2)\n",
    "\n",
    "with tf.Session() as session_test:\n",
    "    print(\"constant_1: \", session_test.run(constant_1))\n",
    "    print(\"constant_2: \", session_test.run(constant_2))\n",
    "    print(\"result: \", session_test.run(result))\n",
    "    print(\"\")\n"
   ]
  },
  {
   "cell_type": "code",
   "execution_count": null,
   "metadata": {
    "collapsed": true
   },
   "outputs": [],
   "source": []
  }
 ],
 "metadata": {
  "anaconda-cloud": {},
  "kernelspec": {
   "display_name": "Python [default]",
   "language": "python",
   "name": "python3"
  },
  "language_info": {
   "codemirror_mode": {
    "name": "ipython",
    "version": 3
   },
   "file_extension": ".py",
   "mimetype": "text/x-python",
   "name": "python",
   "nbconvert_exporter": "python",
   "pygments_lexer": "ipython3",
   "version": "3.5.2"
  }
 },
 "nbformat": 4,
 "nbformat_minor": 1
}
