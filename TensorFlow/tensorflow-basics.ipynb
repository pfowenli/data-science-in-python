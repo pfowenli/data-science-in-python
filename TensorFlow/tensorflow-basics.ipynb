{
 "cells": [
  {
   "cell_type": "code",
   "execution_count": 1,
   "metadata": {
    "collapsed": false
   },
   "outputs": [],
   "source": [
    "# import tensorflow\n",
    "import tensorflow as tf"
   ]
  },
  {
   "cell_type": "code",
   "execution_count": 4,
   "metadata": {
    "collapsed": false
   },
   "outputs": [
    {
     "name": "stdout",
     "output_type": "stream",
     "text": [
      "node 0 : Tensor(\"Const_5:0\", shape=(), dtype=float32)\n",
      "node 1 : Tensor(\"Const_6:0\", shape=(), dtype=float32)\n",
      "node 2 : Tensor(\"Const_7:0\", shape=(), dtype=float32)\n"
     ]
    }
   ],
   "source": [
    "# set a constant node array\n",
    "nodes = [tf.constant(5.0), tf.constant(7.0), tf.constant(11.0)]\n",
    "\n",
    "# show each node\n",
    "for index, node in enumerate(nodes):\n",
    "    print(\"node\", index, \":\", node)"
   ]
  },
  {
   "cell_type": "code",
   "execution_count": 7,
   "metadata": {
    "collapsed": false
   },
   "outputs": [
    {
     "name": "stdout",
     "output_type": "stream",
     "text": [
      "[5.0, 7.0, 11.0]\n"
     ]
    }
   ],
   "source": [
    "# set a session\n",
    "session = tf.Session()\n",
    "\n",
    "# show node values using method run of session\n",
    "print(session.run(nodes))"
   ]
  },
  {
   "cell_type": "code",
   "execution_count": 9,
   "metadata": {
    "collapsed": false
   },
   "outputs": [
    {
     "name": "stdout",
     "output_type": "stream",
     "text": [
      "operater node 0 : Tensor(\"Add_1:0\", shape=(), dtype=float32)\n",
      "operater node 1 : Tensor(\"Sub:0\", shape=(), dtype=float32)\n",
      "operater node 2 : Tensor(\"Mul:0\", shape=(), dtype=float32)\n"
     ]
    }
   ],
   "source": [
    "# set a operater node array\n",
    "operater_nodes = [\n",
    "    tf.add(nodes[0], nodes[1]),\n",
    "    tf.subtract(nodes[2], nodes[0]),\n",
    "    tf.multiply(nodes[1], nodes[2])\n",
    "]\n",
    "\n",
    "# show each node\n",
    "for index, operater_node in enumerate(operater_nodes):\n",
    "    print(\"operater node\", index, \":\", operater_node)"
   ]
  },
  {
   "cell_type": "code",
   "execution_count": 10,
   "metadata": {
    "collapsed": false
   },
   "outputs": [
    {
     "name": "stdout",
     "output_type": "stream",
     "text": [
      "[12.0, 6.0, 77.0]\n"
     ]
    }
   ],
   "source": [
    "# show node values using method run of session\n",
    "print(session.run(operater_nodes))"
   ]
  }
 ],
 "metadata": {
  "anaconda-cloud": {},
  "kernelspec": {
   "display_name": "Python [default]",
   "language": "python",
   "name": "python3"
  },
  "language_info": {
   "codemirror_mode": {
    "name": "ipython",
    "version": 3
   },
   "file_extension": ".py",
   "mimetype": "text/x-python",
   "name": "python",
   "nbconvert_exporter": "python",
   "pygments_lexer": "ipython3",
   "version": "3.5.2"
  }
 },
 "nbformat": 4,
 "nbformat_minor": 2
}
