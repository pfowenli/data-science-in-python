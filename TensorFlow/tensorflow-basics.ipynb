{
 "cells": [
  {
   "cell_type": "code",
   "execution_count": 11,
   "metadata": {
    "collapsed": false
   },
   "outputs": [],
   "source": [
    "# import tensorflow\n",
    "import tensorflow as tf"
   ]
  },
  {
   "cell_type": "code",
   "execution_count": 12,
   "metadata": {
    "collapsed": false
   },
   "outputs": [
    {
     "name": "stdout",
     "output_type": "stream",
     "text": [
      "node 0 : Tensor(\"Const_3:0\", shape=(), dtype=float32)\n",
      "node 1 : Tensor(\"Const_4:0\", shape=(), dtype=float32)\n",
      "node 2 : Tensor(\"Const_5:0\", shape=(), dtype=float32)\n"
     ]
    }
   ],
   "source": [
    "# set a constant node array\n",
    "nodes = [tf.constant(5.0), tf.constant(7.0), tf.constant(11.0)]\n",
    "\n",
    "# show each node\n",
    "for index, node in enumerate(nodes):\n",
    "    print(\"node\", index, \":\", node)"
   ]
  },
  {
   "cell_type": "code",
   "execution_count": 13,
   "metadata": {
    "collapsed": false
   },
   "outputs": [
    {
     "name": "stdout",
     "output_type": "stream",
     "text": [
      "[5.0, 7.0, 11.0]\n"
     ]
    }
   ],
   "source": [
    "# set a session\n",
    "session = tf.Session()\n",
    "\n",
    "# show node values using method run of session\n",
    "print(session.run(nodes))"
   ]
  },
  {
   "cell_type": "code",
   "execution_count": 14,
   "metadata": {
    "collapsed": false
   },
   "outputs": [
    {
     "name": "stdout",
     "output_type": "stream",
     "text": [
      "operater node 0 : Tensor(\"Add_1:0\", shape=(), dtype=float32)\n",
      "operater node 1 : Tensor(\"Sub_1:0\", shape=(), dtype=float32)\n",
      "operater node 2 : Tensor(\"Mul_1:0\", shape=(), dtype=float32)\n"
     ]
    }
   ],
   "source": [
    "# set a operater node array\n",
    "operater_nodes = [\n",
    "    tf.add(nodes[0], nodes[1]),\n",
    "    tf.subtract(nodes[2], nodes[0]),\n",
    "    tf.multiply(nodes[1], nodes[2])\n",
    "]\n",
    "\n",
    "# show each node\n",
    "for index, operater_node in enumerate(operater_nodes):\n",
    "    print(\"operater node\", index, \":\", operater_node)"
   ]
  },
  {
   "cell_type": "code",
   "execution_count": 15,
   "metadata": {
    "collapsed": false
   },
   "outputs": [
    {
     "name": "stdout",
     "output_type": "stream",
     "text": [
      "[12.0, 6.0, 77.0]\n"
     ]
    }
   ],
   "source": [
    "# show node values using method run of session\n",
    "print(session.run(operater_nodes))"
   ]
  },
  {
   "cell_type": "code",
   "execution_count": 21,
   "metadata": {
    "collapsed": false,
    "scrolled": true
   },
   "outputs": [],
   "source": [
    "# create placeholders\n",
    "x = tf.placeholder(tf.float32)\n",
    "y = tf.placeholder(tf.float32)\n",
    "\n",
    "# define operation\n",
    "add_node = x + y\n",
    "subtract_node = x - y"
   ]
  },
  {
   "cell_type": "code",
   "execution_count": 22,
   "metadata": {
    "collapsed": false
   },
   "outputs": [
    {
     "name": "stdout",
     "output_type": "stream",
     "text": [
      "rank 0 tensor\n",
      "add_node:  30.0\n",
      "subtract_node:  -4.0\n"
     ]
    }
   ],
   "source": [
    "print(\"rank 0 tensor\")\n",
    "print(\"add_node: \", session.run(add_node, {x: 13.0, y: 17.0}))\n",
    "print(\"subtract_node: \", session.run(subtract_node, {x: 13.0, y: 17.0}))"
   ]
  },
  {
   "cell_type": "code",
   "execution_count": 23,
   "metadata": {
    "collapsed": false
   },
   "outputs": [
    {
     "name": "stdout",
     "output_type": "stream",
     "text": [
      "rank 2 tensor\n",
      "add_node:  [ 40.  48.]\n",
      "subtract_node:  [ -6. -10.]\n"
     ]
    }
   ],
   "source": [
    "print(\"rank 2 tensor\")\n",
    "print(\"add_node: \", session.run(add_node, {x: [17, 19], y: [23, 29]}))\n",
    "print(\"subtract_node: \", session.run(subtract_node, {x: [17.0, 19.0], y: [23.0, 29.0]}))"
   ]
  },
  {
   "cell_type": "code",
   "execution_count": 25,
   "metadata": {
    "collapsed": false,
    "scrolled": true
   },
   "outputs": [
    {
     "name": "stdout",
     "output_type": "stream",
     "text": [
      "-8.0\n"
     ]
    }
   ],
   "source": [
    "# complex operations\n",
    "subtract_and_double = subtract_node * 2\n",
    "print(session.run(subtract_and_double, {x: 13.0, y: 17.0}))\n",
    "\n",
    "subtract_and_double_and_add_and_triple = subtract_node * 3 + add_node * 4\n",
    "print(session.run(subtract_and_double_and_add_and_triple, {x: 13.0, y: 17.0}))"
   ]
  },
  {
   "cell_type": "code",
   "execution_count": 26,
   "metadata": {
    "collapsed": false
   },
   "outputs": [
    {
     "name": "stdout",
     "output_type": "stream",
     "text": [
      "82.0\n"
     ]
    }
   ],
   "source": []
  },
  {
   "cell_type": "code",
   "execution_count": null,
   "metadata": {
    "collapsed": true
   },
   "outputs": [],
   "source": []
  }
 ],
 "metadata": {
  "anaconda-cloud": {},
  "kernelspec": {
   "display_name": "Python [default]",
   "language": "python",
   "name": "python3"
  },
  "language_info": {
   "codemirror_mode": {
    "name": "ipython",
    "version": 3
   },
   "file_extension": ".py",
   "mimetype": "text/x-python",
   "name": "python",
   "nbconvert_exporter": "python",
   "pygments_lexer": "ipython3",
   "version": "3.5.2"
  }
 },
 "nbformat": 4,
 "nbformat_minor": 2
}
