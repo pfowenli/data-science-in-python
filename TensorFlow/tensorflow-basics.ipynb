{
 "cells": [
  {
   "cell_type": "code",
   "execution_count": 1,
   "metadata": {
    "collapsed": false
   },
   "outputs": [],
   "source": [
    "# import tensorflow\n",
    "import tensorflow as tf"
   ]
  },
  {
   "cell_type": "code",
   "execution_count": 2,
   "metadata": {
    "collapsed": false
   },
   "outputs": [
    {
     "name": "stdout",
     "output_type": "stream",
     "text": [
      "node 0 : Tensor(\"Const:0\", shape=(), dtype=float32)\n",
      "node 1 : Tensor(\"Const_1:0\", shape=(), dtype=float32)\n",
      "node 2 : Tensor(\"Const_2:0\", shape=(), dtype=float32)\n"
     ]
    }
   ],
   "source": [
    "# set a constant node array\n",
    "nodes = [tf.constant(5.0), tf.constant(7.0), tf.constant(11.0)]\n",
    "\n",
    "# show each node\n",
    "for index, node in enumerate(nodes):\n",
    "    print(\"node\", index, \":\", node)"
   ]
  },
  {
   "cell_type": "code",
   "execution_count": 3,
   "metadata": {
    "collapsed": false
   },
   "outputs": [
    {
     "name": "stdout",
     "output_type": "stream",
     "text": [
      "[5.0, 7.0, 11.0]\n"
     ]
    }
   ],
   "source": [
    "# set a session\n",
    "session = tf.Session()\n",
    "\n",
    "# show node values using method run of session\n",
    "print(session.run(nodes))"
   ]
  },
  {
   "cell_type": "code",
   "execution_count": 4,
   "metadata": {
    "collapsed": false
   },
   "outputs": [
    {
     "name": "stdout",
     "output_type": "stream",
     "text": [
      "operater node 0 : Tensor(\"Add:0\", shape=(), dtype=float32)\n",
      "operater node 1 : Tensor(\"Sub:0\", shape=(), dtype=float32)\n",
      "operater node 2 : Tensor(\"Mul:0\", shape=(), dtype=float32)\n"
     ]
    }
   ],
   "source": [
    "# set a operater node array\n",
    "operater_nodes = [\n",
    "    tf.add(nodes[0], nodes[1]),\n",
    "    tf.subtract(nodes[2], nodes[0]),\n",
    "    tf.multiply(nodes[1], nodes[2])\n",
    "]\n",
    "\n",
    "# show each node\n",
    "for index, operater_node in enumerate(operater_nodes):\n",
    "    print(\"operater node\", index, \":\", operater_node)"
   ]
  },
  {
   "cell_type": "code",
   "execution_count": 5,
   "metadata": {
    "collapsed": false
   },
   "outputs": [
    {
     "name": "stdout",
     "output_type": "stream",
     "text": [
      "[12.0, 6.0, 77.0]\n"
     ]
    }
   ],
   "source": [
    "# show node values using method run of session\n",
    "print(session.run(operater_nodes))"
   ]
  },
  {
   "cell_type": "code",
   "execution_count": 6,
   "metadata": {
    "collapsed": false,
    "scrolled": true
   },
   "outputs": [],
   "source": [
    "# create placeholders\n",
    "x = tf.placeholder(tf.float32)\n",
    "y = tf.placeholder(tf.float32)\n",
    "\n",
    "# define operation\n",
    "add_node = x + y\n",
    "subtract_node = x - y"
   ]
  },
  {
   "cell_type": "code",
   "execution_count": 7,
   "metadata": {
    "collapsed": false
   },
   "outputs": [
    {
     "name": "stdout",
     "output_type": "stream",
     "text": [
      "rank 0 tensor\n",
      "add_node:  30.0\n",
      "subtract_node:  -4.0\n"
     ]
    }
   ],
   "source": [
    "print(\"rank 0 tensor\")\n",
    "print(\"add_node: \", session.run(add_node, {x: 13.0, y: 17.0}))\n",
    "print(\"subtract_node: \", session.run(subtract_node, {x: 13.0, y: 17.0}))"
   ]
  },
  {
   "cell_type": "code",
   "execution_count": 8,
   "metadata": {
    "collapsed": false
   },
   "outputs": [
    {
     "name": "stdout",
     "output_type": "stream",
     "text": [
      "rank 2 tensor\n",
      "add_node:  [ 40.  48.]\n",
      "subtract_node:  [ -6. -10.]\n"
     ]
    }
   ],
   "source": [
    "print(\"rank 2 tensor\")\n",
    "print(\"add_node: \", session.run(add_node, {x: [17, 19], y: [23, 29]}))\n",
    "print(\"subtract_node: \", session.run(subtract_node, {x: [17.0, 19.0], y: [23.0, 29.0]}))"
   ]
  },
  {
   "cell_type": "code",
   "execution_count": 9,
   "metadata": {
    "collapsed": false,
    "scrolled": true
   },
   "outputs": [
    {
     "name": "stdout",
     "output_type": "stream",
     "text": [
      "-8.0\n",
      "74.0\n"
     ]
    }
   ],
   "source": [
    "# complex operations\n",
    "subtract_and_double = subtract_node * 2\n",
    "print(session.run(subtract_and_double, {x: 13.0, y: 17.0}))\n",
    "\n",
    "subtract_and_double_and_add_and_triple = add_node * 3 + subtract_node * 4\n",
    "print(session.run(subtract_and_double_and_add_and_triple, {x: 13.0, y: 17.0}))"
   ]
  },
  {
   "cell_type": "code",
   "execution_count": 10,
   "metadata": {
    "collapsed": true
   },
   "outputs": [],
   "source": [
    "# define a linear model\n",
    "A = tf.Variable([.3], dtype=tf.float32)\n",
    "B = tf.Variable([-.4], dtype=tf.float32)\n",
    "C = tf.Variable([+.5], dtype=tf.float32)\n",
    "linear_model = A * x + B * y + C\n",
    "\n",
    "# create initializer\n",
    "initializer = tf.global_variables_initializer()\n",
    "session.run(initializer)"
   ]
  },
  {
   "cell_type": "code",
   "execution_count": 11,
   "metadata": {
    "collapsed": false,
    "scrolled": true
   },
   "outputs": [
    {
     "name": "stdout",
     "output_type": "stream",
     "text": [
      "[ 0.70000005  0.60000002  0.79999995  1.00000012]\n"
     ]
    }
   ],
   "source": [
    "# run linear model\n",
    "print(session.run(linear_model, {x: [2, 3, 5, 7], y: [1, 2, 3, 4]}))"
   ]
  },
  {
   "cell_type": "code",
   "execution_count": 12,
   "metadata": {
    "collapsed": false
   },
   "outputs": [
    {
     "name": "stdout",
     "output_type": "stream",
     "text": [
      "15.89\n"
     ]
    }
   ],
   "source": [
    "# run loss function\n",
    "z = tf.placeholder(tf.float32)\n",
    "squared_errors = tf.square(y - linear_model)\n",
    "loss_value = tf.reduce_sum(squared_errors)\n",
    "print(session.run(loss_value, {x: [2, 3, 5, 7], y: [1, 2, 3, 4], z: [1, 2, 3, 4]}))"
   ]
  },
  {
   "cell_type": "code",
   "execution_count": 18,
   "metadata": {
    "collapsed": false
   },
   "outputs": [
    {
     "name": "stdout",
     "output_type": "stream",
     "text": [
      "[array([ -1.63109107e-07], dtype=float32), array([-0.40000001], dtype=float32), array([  8.28469183e-07], dtype=float32)]\n"
     ]
    }
   ],
   "source": [
    "# reset values\n",
    "session.run(initializer)\n",
    "\n",
    "# set gradient descent optimizer\n",
    "optimizer = tf.train.GradientDescentOptimizer(0.01)\n",
    "train = optimizer.minimize(loss_value)\n",
    "for i in range(1000):\n",
    "  session.run(train, {x: [2, 3, 5, 7], y: [0, 0, 0, 0], z: [1, 2, 3, 4]})\n",
    "\n",
    "print(session.run([A, B, C]))"
   ]
  }
 ],
 "metadata": {
  "anaconda-cloud": {},
  "kernelspec": {
   "display_name": "Python [default]",
   "language": "python",
   "name": "python3"
  },
  "language_info": {
   "codemirror_mode": {
    "name": "ipython",
    "version": 3
   },
   "file_extension": ".py",
   "mimetype": "text/x-python",
   "name": "python",
   "nbconvert_exporter": "python",
   "pygments_lexer": "ipython3",
   "version": "3.5.2"
  }
 },
 "nbformat": 4,
 "nbformat_minor": 2
}
