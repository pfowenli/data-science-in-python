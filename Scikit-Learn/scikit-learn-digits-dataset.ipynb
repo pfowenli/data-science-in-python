{
 "cells": [
  {
   "cell_type": "code",
   "execution_count": 1,
   "metadata": {
    "collapsed": true
   },
   "outputs": [],
   "source": [
    "'''\n",
    "Scikit Learn dataset loading utilities\n",
    "http://scikit-learn.org/stable/datasets/index.html\n",
    "'''\n",
    "from sklearn import datasets\n",
    "import matplotlib.pyplot as plt"
   ]
  },
  {
   "cell_type": "code",
   "execution_count": 2,
   "metadata": {
    "collapsed": true
   },
   "outputs": [],
   "source": [
    "# load digits data\n",
    "digits = datasets.load_digits()"
   ]
  },
  {
   "cell_type": "code",
   "execution_count": 3,
   "metadata": {},
   "outputs": [
    {
     "name": "stdout",
     "output_type": "stream",
     "text": [
      "dict_keys(['data', 'target', 'target_names', 'images', 'DESCR'])\n",
      "\n",
      "* digits data\n",
      " [[  0.   0.   5. ...,   0.   0.   0.]\n",
      " [  0.   0.   0. ...,  10.   0.   0.]\n",
      " [  0.   0.   0. ...,  16.   9.   0.]\n",
      " ..., \n",
      " [  0.   0.   1. ...,   6.   0.   0.]\n",
      " [  0.   0.   2. ...,  12.   0.   0.]\n",
      " [  0.   0.  10. ...,  12.   1.   0.]]\n",
      "(samples total, dimensionality) = (1797, 64)\n",
      "\n",
      "* digits target\n",
      " [0 1 2 ..., 8 9 8]\n",
      "(samples total,) = (1797,)\n",
      "\n",
      "* digits target_names\n",
      " [0 1 2 3 4 5 6 7 8 9]\n",
      "(target names total,) = (10,)\n",
      "\n",
      "* digits DESCR\n",
      " Optical Recognition of Handwritten Digits Data Set\n",
      "===================================================\n",
      "\n",
      "Notes\n",
      "-----\n",
      "Data Set Characteristics:\n",
      "    :Number of Instances: 5620\n",
      "    :Number of Attributes: 64\n",
      "    :Attribute Information: 8x8 image of integer pixels in the range 0..16.\n",
      "    :Missing Attribute Values: None\n",
      "    :Creator: E. Alpaydin (alpaydin '@' boun.edu.tr)\n",
      "    :Date: July; 1998\n",
      "\n",
      "This is a copy of the test set of the UCI ML hand-written digits datasets\n",
      "http://archive.ics.uci.edu/ml/datasets/Optical+Recognition+of+Handwritten+Digits\n",
      "\n",
      "The data set contains images of hand-written digits: 10 classes where\n",
      "each class refers to a digit.\n",
      "\n",
      "Preprocessing programs made available by NIST were used to extract\n",
      "normalized bitmaps of handwritten digits from a preprinted form. From a\n",
      "total of 43 people, 30 contributed to the training set and different 13\n",
      "to the test set. 32x32 bitmaps are divided into nonoverlapping blocks of\n",
      "4x4 and the number of on pixels are counted in each block. This generates\n",
      "an input matrix of 8x8 where each element is an integer in the range\n",
      "0..16. This reduces dimensionality and gives invariance to small\n",
      "distortions.\n",
      "\n",
      "For info on NIST preprocessing routines, see M. D. Garris, J. L. Blue, G.\n",
      "T. Candela, D. L. Dimmick, J. Geist, P. J. Grother, S. A. Janet, and C.\n",
      "L. Wilson, NIST Form-Based Handprint Recognition System, NISTIR 5469,\n",
      "1994.\n",
      "\n",
      "References\n",
      "----------\n",
      "  - C. Kaynak (1995) Methods of Combining Multiple Classifiers and Their\n",
      "    Applications to Handwritten Digit Recognition, MSc Thesis, Institute of\n",
      "    Graduate Studies in Science and Engineering, Bogazici University.\n",
      "  - E. Alpaydin, C. Kaynak (1998) Cascading Classifiers, Kybernetika.\n",
      "  - Ken Tang and Ponnuthurai N. Suganthan and Xi Yao and A. Kai Qin.\n",
      "    Linear dimensionalityreduction using relevance weighted LDA. School of\n",
      "    Electrical and Electronic Engineering Nanyang Technological University.\n",
      "    2005.\n",
      "  - Claudio Gentile. A New Approximate Maximal Margin Classification\n",
      "    Algorithm. NIPS. 2000.\n",
      "\n",
      "\n"
     ]
    }
   ],
   "source": [
    "# print keys of digits\n",
    "print(digits.keys())\n",
    "print(\"\")\n",
    "\n",
    "# print information of digits data\n",
    "print(\"* digits data\\n\", digits.data)\n",
    "print(\"(samples total, dimensionality) =\", digits.data.shape)\n",
    "print(\"\")\n",
    "\n",
    "# print information of digits target\n",
    "print(\"* digits target\\n\", digits.target)\n",
    "print(\"(samples total,) =\", digits.target.shape)\n",
    "print(\"\")\n",
    "\n",
    "# print information of digits target_names\n",
    "print(\"* digits target_names\\n\", digits.target_names)\n",
    "print(\"(target names total,) =\", digits.target_names.shape)\n",
    "print(\"\")\n",
    "\n",
    "# print discription of digits\n",
    "print(\"* digits DESCR\\n\", digits.DESCR)\n",
    "print(\"\")"
   ]
  },
  {
   "cell_type": "code",
   "execution_count": 4,
   "metadata": {
    "collapsed": true
   },
   "outputs": [],
   "source": [
    "# isolate digits data, digits target and digits images\n",
    "digits_data = digits.data\n",
    "digits_target = digits.target\n",
    "digits_images = digits.images"
   ]
  },
  {
   "cell_type": "code",
   "execution_count": 5,
   "metadata": {
    "collapsed": true
   },
   "outputs": [],
   "source": [
    "import pandas as pd"
   ]
  },
  {
   "cell_type": "code",
   "execution_count": 6,
   "metadata": {
    "collapsed": true
   },
   "outputs": [],
   "source": [
    "# load data digits\n",
    "digits = pd.read_csv(\"http://archive.ics.uci.edu/ml/machine-learning-databases/optdigits/optdigits.tra\", header=None)"
   ]
  },
  {
   "cell_type": "code",
   "execution_count": 7,
   "metadata": {
    "scrolled": true
   },
   "outputs": [
    {
     "name": "stdout",
     "output_type": "stream",
     "text": [
      "<bound method NDFrame.describe of       0   1   2   3   4   5   6   7   8   9  ...  55  56  57  58  59  60  61  \\\n",
      "0      0   1   6  15  12   1   0   0   0   7 ...   0   0   0   6  14   7   1   \n",
      "1      0   0  10  16   6   0   0   0   0   7 ...   0   0   0  10  16  15   3   \n",
      "2      0   0   8  15  16  13   0   0   0   1 ...   0   0   0   9  14   0   0   \n",
      "3      0   0   0   3  11  16   0   0   0   0 ...   0   0   0   0   1  15   2   \n",
      "4      0   0   5  14   4   0   0   0   0   0 ...   0   0   0   4  12  14   7   \n",
      "5      0   0  11  16  10   1   0   0   0   4 ...   3   0   0  10  16  16  16   \n",
      "6      0   0   1  11  13  11   7   0   0   0 ...   0   0   0   1  13   5   0   \n",
      "7      0   0   8  10   8   7   2   0   0   1 ...   0   0   0   4  13   8   0   \n",
      "8      0   0  15   2  14  13   2   0   0   0 ...   0   0   0  10  12   5   0   \n",
      "9      0   0   3  13  13   2   0   0   0   6 ...   0   0   0   3  15  11   6   \n",
      "10     0   0   6  14  14  16  16   8   0   0 ...   0   0   0  10  12   0   0   \n",
      "11     0   0   0   3  16  11   1   0   0   0 ...   0   0   0   0   2  14  14   \n",
      "12     0   0   0   4  13  16  16   3   0   0 ...   0   0   0   0   5  15   4   \n",
      "13     0   0   7  12   6   2   0   0   0   0 ...   0   0   0   5  16   9   0   \n",
      "14     0   0   7  11  11   6   0   0   0   9 ...   0   0   0  14  16  12  10   \n",
      "15     0   1  10  15   8   0   0   0   0   6 ...   0   0   0   9  15   8   0   \n",
      "16     0   0   0   1  11   7   0   0   0   0 ...   0   0   0   0   3  15   0   \n",
      "17     0   0   5  12  16  16   3   0   0   0 ...   0   0   0   8  12   0   0   \n",
      "18     0   0   1   8  13  13   2   0   0   4 ...   0   0   0   1  13  12   4   \n",
      "19     0   0   0   2  13  12   4   0   0   0 ...   0   0   0   0   0  15   3   \n",
      "20     0   0   4  11  15  16  15   0   0   0 ...   0   0   0   6  14   2   0   \n",
      "21     0   0   4  10  13  11   1   0   0   2 ...   0   0   0   6  13  11   1   \n",
      "22     0   0   3  11  13  14   6   0   0   0 ...   0   0   0   3  13  10   0   \n",
      "23     0   0   1   4  11  13   7   0   0   2 ...   0   0   0   0   1  14   3   \n",
      "24     0   0   9  13   1   0   0   0   0   0 ...   5   0   0   4  15  16  16   \n",
      "25     0   0   9  16  11   0   0   0   0   4 ...   1   0   0  10  16   9   9   \n",
      "26     0   0   2  13   9   0   0   0   0   0 ...   0   0   0   3  16  14   4   \n",
      "27     0   0   0  10  12   0   0   0   0   0 ...   0   0   0   1  11  14  12   \n",
      "28     0   0   0   0  10  13   0   0   0   0 ...   0   0   0   0   0   8  15   \n",
      "29     0   0   7   9  13  11   2   0   0   6 ...   0   0   0  13  12   8   1   \n",
      "...   ..  ..  ..  ..  ..  ..  ..  ..  ..  .. ...  ..  ..  ..  ..  ..  ..  ..   \n",
      "3793   0   0  15  15  16  14   1   0   0   3 ...   0   0   0  15  16  12   0   \n",
      "3794   0   0   2  13  16  15   4   0   0   0 ...   0   0   0   3  14   1   0   \n",
      "3795   0   0  12  16   7   0   0   0   0   2 ...   0   0   0  11  16  16  16   \n",
      "3796   0   0   0   3  13   0   0   0   0   0 ...   0   0   0   0   6  12   0   \n",
      "3797   0   0   0  12   8   0   0   0   0   0 ...   0   0   0   0  14   6   0   \n",
      "3798   0   0   0   9  12   0   0   0   0   0 ...   0   0   0   0  10  11   0   \n",
      "3799   0   0   5  16  13   1   0   0   0   0 ...   0   0   1   6  10  12  12   \n",
      "3800   0   0   6  16   8   0   0   0   0   2 ...   0   0   0   7  13  16  13   \n",
      "3801   0   0   5  16  11   0   0   0   0   1 ...   0   0   0   4  14  12   2   \n",
      "3802   0   1  12  16  14   4   0   0   0   8 ...   0   0   0  13  15  15  10   \n",
      "3803   0   0   3  14  13   3   0   0   0   0 ...   0   0   0   3  13  13   6   \n",
      "3804   0   0  12  16  16  10   1   0   0   0 ...   0   0   1  10  16  16  16   \n",
      "3805   0   0   0   8  11   0   0   0   0   0 ...   0   0   0   0   7  12   0   \n",
      "3806   0   1   9  16  14   6   0   0   0   5 ...   0   0   0  11  16   7   0   \n",
      "3807   0   0   4  14  15   3   0   0   0   0 ...   0   0   0   3  14  14   6   \n",
      "3808   0   2  15  16  15   1   0   0   0   3 ...   0   0   0  14  13  16  11   \n",
      "3809   0   0   5  15  16   6   0   0   0   0 ...   0   0   0   5  15  16  15   \n",
      "3810   0   0   4  16  11   1   0   0   0   0 ...   0   0   0   2  12  16  11   \n",
      "3811   0   0   0   0   7  11   1   0   0   0 ...   0   0   0   2   0   7  11   \n",
      "3812   0   0   0   6  13   0   0   0   0   0 ...   0   0   0   0   6   9   0   \n",
      "3813   0   0   0   6   8   0   0   0   0   0 ...   0   0   1   4   9   8   0   \n",
      "3814   0   0   9  16   6   0   0   0   0   2 ...   0   0   0  10  13   1   0   \n",
      "3815   0   0   9  16  12   1   0   0   0   3 ...   0   0   0   8  16  16  16   \n",
      "3816   0   1  10  16  16   4   0   0   0   8 ...   0   0   2  13  16  12   5   \n",
      "3817   0   0   6  16  11   0   0   0   0   1 ...   0   0   1   7  14  16  12   \n",
      "3818   0   0   5  13  11   2   0   0   0   2 ...   0   0   0   8  13  15  10   \n",
      "3819   0   0   0   1  12   1   0   0   0   0 ...   0   0   0   0   4   9   0   \n",
      "3820   0   0   3  15   0   0   0   0   0   0 ...   0   0   0   4  14  16   9   \n",
      "3821   0   0   6  16   2   0   0   0   0   0 ...   0   0   0   5  16  16  16   \n",
      "3822   0   0   2  15  16  13   1   0   0   0 ...   0   0   0   4  14   1   0   \n",
      "\n",
      "      62  63  64  \n",
      "0      0   0   0  \n",
      "1      0   0   0  \n",
      "2      0   0   7  \n",
      "3      0   0   4  \n",
      "4      0   0   6  \n",
      "5     16   6   2  \n",
      "6      0   0   5  \n",
      "7      0   0   5  \n",
      "8      0   0   0  \n",
      "9      0   0   8  \n",
      "10     0   0   7  \n",
      "11     1   0   1  \n",
      "12     0   0   9  \n",
      "13     0   0   5  \n",
      "14     1   0   3  \n",
      "15     0   0   0  \n",
      "16     0   0   4  \n",
      "17     0   0   7  \n",
      "18     0   0   8  \n",
      "19     0   0   4  \n",
      "20     0   0   7  \n",
      "21     0   0   8  \n",
      "22     0   0   5  \n",
      "23     0   0   9  \n",
      "24    16  16   1  \n",
      "25    13   6   2  \n",
      "26     0   0   0  \n",
      "27     1   0   6  \n",
      "28     2   0   1  \n",
      "29     0   0   8  \n",
      "...   ..  ..  ..  \n",
      "3793   0   0   5  \n",
      "3794   0   0   7  \n",
      "3795  16   8   2  \n",
      "3796   0   0   4  \n",
      "3797   0   0   4  \n",
      "3798   0   0   4  \n",
      "3799   2   0   9  \n",
      "3800   9   0   9  \n",
      "3801   0   0   0  \n",
      "3802   2   0   3  \n",
      "3803   0   0   0  \n",
      "3804   7   0   3  \n",
      "3805   0   0   4  \n",
      "3806   0   0   8  \n",
      "3807   0   0   0  \n",
      "3808   1   0   3  \n",
      "3809   1   0   0  \n",
      "3810   1   0   1  \n",
      "3811   0   0   1  \n",
      "3812   0   0   4  \n",
      "3813   0   0   4  \n",
      "3814   0   0   8  \n",
      "3815   8   0   9  \n",
      "3816   0   0   3  \n",
      "3817   1   0   9  \n",
      "3818   1   0   9  \n",
      "3819   0   0   4  \n",
      "3820   0   0   6  \n",
      "3821   5   0   6  \n",
      "3822   0   0   7  \n",
      "\n",
      "[3823 rows x 65 columns]>\n"
     ]
    }
   ],
   "source": [
    "# print information of digits data\n",
    "print(digits.describe)"
   ]
  },
  {
   "cell_type": "code",
   "execution_count": 5,
   "metadata": {
    "collapsed": true
   },
   "outputs": [],
   "source": [
    "import matplotlib.pyplot as plt"
   ]
  },
  {
   "cell_type": "code",
   "execution_count": 8,
   "metadata": {},
   "outputs": [
    {
     "data": {
      "image/png": "[encoded data removed]",
      "text/plain": [
       "<matplotlib.figure.Figure at 0x11edaf0b8>"
      ]
     },
     "metadata": {},
     "output_type": "display_data"
    }
   ],
   "source": [
    "# set figure size\n",
    "fig = plt.figure(figsize=(12, 12))\n",
    "\n",
    "# adjust the subplots \n",
    "fig.subplots_adjust(left=0, right=1, bottom=0, top=1, hspace=0.05, wspace=0.05)\n",
    "\n",
    "# loop over the first 36 images\n",
    "for i in range(36):\n",
    "    # initialize the subplots\n",
    "    # add a subplot in the grid of 6 by 6, at the i+1-th position\n",
    "    ax = fig.add_subplot(6, 6, i + 1, xticks=[], yticks=[])\n",
    "    # display an image\n",
    "    ax.imshow(digits.images[i], cmap=plt.cm.binary, interpolation='nearest')\n",
    "    # add label (target value)\n",
    "    ax.text(0, 7, str(digits.target[i]))\n",
    "\n",
    "# Show the plot\n",
    "plt.show()"
   ]
  }
 ],
 "metadata": {
  "kernelspec": {
   "display_name": "Python 3",
   "language": "python",
   "name": "python3"
  },
  "language_info": {
   "codemirror_mode": {
    "name": "ipython",
    "version": 3
   },
   "file_extension": ".py",
   "mimetype": "text/x-python",
   "name": "python",
   "nbconvert_exporter": "python",
   "pygments_lexer": "ipython3",
   "version": "3.6.1"
  }
 },
 "nbformat": 4,
 "nbformat_minor": 2
}
